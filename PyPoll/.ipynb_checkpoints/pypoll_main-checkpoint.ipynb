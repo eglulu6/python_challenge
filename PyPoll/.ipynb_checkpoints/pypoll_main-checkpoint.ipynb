{
 "cells": [
  {
   "cell_type": "code",
   "execution_count": 30,
   "metadata": {},
   "outputs": [
    {
     "name": "stdout",
     "output_type": "stream",
     "text": [
      "['ï»¿Voter ID', 'County', 'Candidate']\n"
     ]
    }
   ],
   "source": [
    "#import libraries\n",
    "import os, csv\n",
    "\n",
    "#define path to file\n",
    "csvpath = os.path.join('Resources', 'election_data_sample.csv')\n",
    "#use path variable to open csv file\n",
    "csvfile = open(csvpath)\n",
    "#initiate csvreader\n",
    "electdata = csv.reader(csvfile,delimiter=',')\n",
    "header = next(electdata)\n",
    "print(header) #['ï»¿Voter ID', 'County', 'Candidate']"
   ]
  },
  {
   "cell_type": "code",
   "execution_count": 31,
   "metadata": {},
   "outputs": [],
   "source": [
    "#initialize vote counter\n",
    "votecount = 0\n",
    "#initialize candidate set to create a list of non duplicate candidates\n",
    "cand_set = set(())\n",
    "candlst = list(cand_set)\n",
    "cand_dict= {cand : votecount for cand in candlst}\n",
    "cand_dict"
   ]
  },
  {
   "cell_type": "code",
   "execution_count": 40,
   "metadata": {},
   "outputs": [],
   "source": [
    "#loop thru csv rows to add to vote count AND create the candidate set\n",
    "for row in electdata:\n",
    "    cand_set.add(row[2])\n",
    "    row[2]"
   ]
  },
  {
   "cell_type": "code",
   "execution_count": 33,
   "metadata": {},
   "outputs": [
    {
     "data": {
      "text/plain": [
       "{\"O'Tooley\": 0, 'Li': 0, 'Correy': 0, 'Khan': 0}"
      ]
     },
     "execution_count": 33,
     "metadata": {},
     "output_type": "execute_result"
    }
   ],
   "source": [
    "#sets are restrictive so convert to list type\n",
    "candlst = list(cand_set)\n",
    "#use list to create a dictionary\n",
    "#loop thru candlst and for every cand use cand as key : value = votecount \n",
    "cand_dict= {cand : votecount for cand in candlst}\n",
    "cand_dict"
   ]
  },
  {
   "cell_type": "code",
   "execution_count": 34,
   "metadata": {},
   "outputs": [],
   "source": []
  },
  {
   "cell_type": "code",
   "execution_count": null,
   "metadata": {},
   "outputs": [],
   "source": []
  },
  {
   "cell_type": "code",
   "execution_count": null,
   "metadata": {},
   "outputs": [],
   "source": [
    "    #get ea candidates total votes\n",
    "#percentage e/a candidate won\n",
    "    #percentage = sum(candqty)/votecount\n"
   ]
  }
 ],
 "metadata": {
  "kernelspec": {
   "display_name": "Python 3",
   "language": "python",
   "name": "python3"
  },
  "language_info": {
   "codemirror_mode": {
    "name": "ipython",
    "version": 3
   },
   "file_extension": ".py",
   "mimetype": "text/x-python",
   "name": "python",
   "nbconvert_exporter": "python",
   "pygments_lexer": "ipython3",
   "version": "3.8.3"
  }
 },
 "nbformat": 4,
 "nbformat_minor": 4
}
