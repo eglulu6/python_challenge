{
 "cells": [
  {
   "cell_type": "code",
   "execution_count": 1,
   "metadata": {},
   "outputs": [
    {
     "name": "stdout",
     "output_type": "stream",
     "text": [
      "['ï»¿Voter ID', 'County', 'Candidate']\n"
     ]
    }
   ],
   "source": [
    "#import libraries\n",
    "import os, csv\n",
    "\n",
    "#define path to file\n",
    "csvpath = os.path.join('Resources', 'election_data_sample.csv')\n",
    "#use path variable to open csv file\n",
    "csvfile = open(csvpath)\n",
    "#initiate csvreader\n",
    "electdata = csv.reader(csvfile,delimiter=',')\n",
    "header = next(electdata)\n",
    "print(header) #['ï»¿Voter ID', 'County', 'Candidate']"
   ]
  },
  {
   "cell_type": "code",
   "execution_count": 2,
   "metadata": {},
   "outputs": [],
   "source": [
    "#initialize vote counter\n",
    "fullcandlst = []\n",
    "#initialize candidate set to create a list of non duplicate candidates\n",
    "cand_set = set(())\n",
    "candlst = list(cand_set)"
   ]
  },
  {
   "cell_type": "code",
   "execution_count": 3,
   "metadata": {},
   "outputs": [],
   "source": [
    "#loop thru csv rows to add to vote count AND create the candidate set\n",
    "for row in electdata:\n",
    "    cand_set.add(row[2])\n",
    "    fullcandlst.append(row[2])"
   ]
  },
  {
   "cell_type": "code",
   "execution_count": 4,
   "metadata": {},
   "outputs": [
    {
     "name": "stdout",
     "output_type": "stream",
     "text": [
      "[71, 18, 71, 71, 71, 8, 18, 71, 71, 18, 71, 18, 71, 71, 18, 71, 18, 18, 71, 18, 18, 18, 18, 71, 71, 71, 71, 71, 71, 18, 18, 71, 71, 71, 71, 71, 71, 8, 8, 71, 71, 71, 71, 71, 71, 71, 2, 71, 71, 71, 71, 71, 71, 8, 8, 8, 71, 71, 18, 71, 71, 71, 71, 18, 71, 71, 71, 2, 8, 71, 18, 71, 71, 71, 71, 71, 18, 71, 71, 71, 8, 71, 71, 71, 71, 71, 71, 71, 71, 71, 71, 71, 71, 71, 18, 71, 71, 71, 71]\n"
     ]
    }
   ],
   "source": [
    "votecount= []\n",
    "for name in fullcandlst:\n",
    "    x = fullcandlst.count(name)\n",
    "    votecount.append(x)\n",
    "print(votecount)"
   ]
  },
  {
   "cell_type": "code",
   "execution_count": 5,
   "metadata": {},
   "outputs": [
    {
     "data": {
      "text/plain": [
       "{'Khan': 2, \"O'Tooley\": 2, 'Li': 2, 'Correy': 2}"
      ]
     },
     "execution_count": 5,
     "metadata": {},
     "output_type": "execute_result"
    }
   ],
   "source": [
    "#sets are restrictive so convert to list type\n",
    "candlst = list(cand_set)\n",
    "#use list to create a dictionary\n",
    "#loop thru candlst and for every cand use cand as key : value = votecount \n",
    "cand_dict= {cand :2 for cand in candlst }\n",
    "cand_dict"
   ]
  },
  {
   "cell_type": "code",
   "execution_count": null,
   "metadata": {},
   "outputs": [],
   "source": [
    "for row in electdata:\n",
    "    print(row[2])"
   ]
  },
  {
   "cell_type": "code",
   "execution_count": null,
   "metadata": {},
   "outputs": [],
   "source": []
  },
  {
   "cell_type": "code",
   "execution_count": null,
   "metadata": {},
   "outputs": [],
   "source": [
    "    #get ea candidates total votes\n",
    "#percentage e/a candidate won\n",
    "    #percentage = sum(candqty)/votecount\n"
   ]
  }
 ],
 "metadata": {
  "kernelspec": {
   "display_name": "Python 3",
   "language": "python",
   "name": "python3"
  },
  "language_info": {
   "codemirror_mode": {
    "name": "ipython",
    "version": 3
   },
   "file_extension": ".py",
   "mimetype": "text/x-python",
   "name": "python",
   "nbconvert_exporter": "python",
   "pygments_lexer": "ipython3",
   "version": "3.8.3"
  }
 },
 "nbformat": 4,
 "nbformat_minor": 4
}
