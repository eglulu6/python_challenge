{
 "cells": [
  {
   "cell_type": "code",
   "execution_count": 23,
   "metadata": {},
   "outputs": [
    {
     "name": "stdout",
     "output_type": "stream",
     "text": [
      "['ï»¿Voter ID', 'County', 'Candidate']\n"
     ]
    }
   ],
   "source": [
    "#import libraries\n",
    "import os, csv\n",
    "\n",
    "#define path to file\n",
    "csvpath = os.path.join('Resources', 'election_data_sample.csv')\n",
    "#use path variable to open csv file\n",
    "csvfile = open(csvpath)\n",
    "#initiate csvreader\n",
    "electdata = csv.reader(csvfile,delimiter=',')\n",
    "header = next(electdata)\n",
    "print(header) #['ï»¿Voter ID', 'County', 'Candidate']"
   ]
  },
  {
   "cell_type": "code",
   "execution_count": 24,
   "metadata": {},
   "outputs": [],
   "source": [
    "#initialize vote counter\n",
    "votecount = 0\n",
    "#initialize candidate set to create a list of non duplicate candidates\n",
    "cand_set = set(())"
   ]
  },
  {
   "cell_type": "code",
   "execution_count": 25,
   "metadata": {},
   "outputs": [],
   "source": [
    "#loop thru csv rows to add to vote count AND create the candidate set\n",
    "for row in electdata:\n",
    "    votecount = votecount + 1\n",
    "    cand_set.add(row[2])"
   ]
  },
  {
   "cell_type": "code",
   "execution_count": 27,
   "metadata": {},
   "outputs": [
    {
     "name": "stdout",
     "output_type": "stream",
     "text": [
      "99\n"
     ]
    }
   ],
   "source": [
    "#no sets are very restrictive so convert to list type\n",
    "candlst = list(cand_set)\n",
    "print(votecount)"
   ]
  },
  {
   "cell_type": "code",
   "execution_count": null,
   "metadata": {},
   "outputs": [],
   "source": []
  }
 ],
 "metadata": {
  "kernelspec": {
   "display_name": "Python 3",
   "language": "python",
   "name": "python3"
  },
  "language_info": {
   "codemirror_mode": {
    "name": "ipython",
    "version": 3
   },
   "file_extension": ".py",
   "mimetype": "text/x-python",
   "name": "python",
   "nbconvert_exporter": "python",
   "pygments_lexer": "ipython3",
   "version": "3.8.3"
  }
 },
 "nbformat": 4,
 "nbformat_minor": 4
}
