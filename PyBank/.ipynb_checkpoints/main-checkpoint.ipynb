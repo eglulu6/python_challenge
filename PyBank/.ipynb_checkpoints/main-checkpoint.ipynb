{
 "cells": [
  {
   "cell_type": "code",
   "execution_count": 50,
   "metadata": {},
   "outputs": [],
   "source": [
    "#import the needed libraries\n",
    "import os, csv\n",
    "\n",
    "#tell computer how to get to the file you want\n",
    "csvpath = os.path.join('Resources', 'budget_data.csv')\n",
    "\n",
    "#Okay now that im here what do you want me to do with it? - open file\n",
    "with open(csvpath) as csvfile:\n",
    "    csvreader = csv.reader(csvfile,delimiter=',')\n",
    "\n",
    "#skip first row & consider then as header    \n",
    "    header = next(csvreader)\n",
    "\n",
    "#The total number of months included in the dataset\n",
    "    monthcount = len(list((csvreader)))\n",
    "\n",
    "#initialize lists\n",
    "    #date = []\n",
    "    \n",
    "#lopp thru rows to make lists\n",
    "    for row in csvreader:\n",
    "        #date.append(row[0])\n",
    "        print(row)\n",
    "\n",
    "\n",
    "    #Add current row to the next row\n",
    "        #nettotal +=  \n",
    "#The net total amount of \"Profit/Losses\" over the entire period\n",
    "\n",
    "#Calculate the changes in \"Profit/Losses\" over the entire period\n",
    "\n",
    "#find the average of those changes\n",
    "\n",
    "    \n",
    "#start looping thru csv data to build dictionary and other...    \n",
    "\n",
    "#Set net total values over the entire period\n",
    " \n",
    "\n",
    "#set count of date list length        \n",
    "\n",
    "#calculate the average\n",
    "#find max increase return date and amount\n",
    "#find min\n"
   ]
  },
  {
   "cell_type": "code",
   "execution_count": null,
   "metadata": {},
   "outputs": [],
   "source": []
  },
  {
   "cell_type": "code",
   "execution_count": null,
   "metadata": {},
   "outputs": [],
   "source": []
  }
 ],
 "metadata": {
  "kernelspec": {
   "display_name": "Python 3",
   "language": "python",
   "name": "python3"
  },
  "language_info": {
   "codemirror_mode": {
    "name": "ipython",
    "version": 3
   },
   "file_extension": ".py",
   "mimetype": "text/x-python",
   "name": "python",
   "nbconvert_exporter": "python",
   "pygments_lexer": "ipython3",
   "version": "3.8.3"
  }
 },
 "nbformat": 4,
 "nbformat_minor": 4
}
