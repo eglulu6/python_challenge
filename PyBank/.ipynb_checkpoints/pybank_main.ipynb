{
 "cells": [
  {
   "cell_type": "code",
   "execution_count": 4,
   "metadata": {},
   "outputs": [
    {
     "name": "stdout",
     "output_type": "stream",
     "text": [
      "Financial Analysis\n",
      " --------------------------------------------- \n",
      "Total Months: 86\n",
      "Net Total: $38382578\n",
      "Average Change: $-2315.12\n",
      "Greatest Profit Increase: $1926159.0\n",
      "Greatest Profit Decrease: $-2196167.0\n"
     ]
    }
   ],
   "source": [
    "#import the needed libraries\n",
    "import os, csv\n",
    "\n",
    "#tell computer how to get to the file you want\n",
    "csvpath = os.path.join('Resources', 'budget_data.csv')\n",
    "\n",
    "#Okay now that im here what do you want me to do with it? - open file\n",
    "with open(csvpath) as csvfile:\n",
    "    csvreader = csv.reader(csvfile,delimiter=',')\n",
    "\n",
    "#skip first row & consider then as header    \n",
    "    header = next(csvreader)\n",
    "\n",
    "#initialize lists\n",
    "    date = []\n",
    "    pandl = []\n",
    "    \n",
    "#loop thru rows in csvreader to make lists of each column\n",
    "    for row in csvreader:\n",
    "        date.append(row[0])\n",
    "        pandl.append(int(row[1]))\n",
    "\n",
    "#use the date list to find the total number of months included in the dataset\n",
    "    monthcount = len(date)\n",
    "    \n",
    "#sum the total list of pandl to get net total amount of \"Profit/Losses\" over the entire period\n",
    "    nettotal = sum(pandl)\n",
    "    \n",
    "#loop thru 'pandl' list values to get values of total monthly change\n",
    "    #Jan has no previous value to subtract from so start at feb-10 \n",
    "    chg = []\n",
    "    for x in range(1, len(pandl)): #range(<startvalue>, <endvalue>)\n",
    "        chg.append(int(pandl[x]-pandl[x-1])) #'x' is the current row minus 'x-1 = the previous row\n",
    "\n",
    "#take the sum of chg values before cacluating average\n",
    "    totalchg = float(sum(chg))\n",
    "    #find the average of those changes\n",
    "    avgchg = float(round(totalchg/(len(pandl)-1),2)) #minus 1 becuse we skipped jan value\n",
    "#find max value in chg list\n",
    "    maxchg = round(float(max(chg)),2)\n",
    "    minchg = round(float(min(chg)),3)\n",
    "    \n",
    "    print(f'Financial Analysis\\n --------------------------------------------- \\nTotal Months: {monthcount}\\nNet Total: ${nettotal}\\nAverage Change: ${avgchg}\\nGreatest Profit Increase: ${maxchg}\\nGreatest Profit Decrease: ${minchg}')"
   ]
  },
  {
   "cell_type": "code",
   "execution_count": 3,
   "metadata": {},
   "outputs": [],
   "source": [
    "#In addition, your final script should both print the analysis to the terminal\n",
    "#export a text file with the results\n",
    "\n",
    "#tell computer where to create the new file\n",
    "txtpath_out = os.path.join('analysis', 'budget_analysis.txt')\n",
    "\n",
    "#what type the new file should be and at teh same time make the file object\n",
    "with open(txtpath_out, 'w', newline='') as txtfile:\n",
    "    \n",
    "#we need to tell it what to write on the file\n",
    "    txtfile.write(f'Financial Analysis\\n --------------------------------------------- \\nTotal Months: {monthcount}\\nNet Total: ${nettotal}\\nAverage Change: ${avgchg}\\nGreatest Profit Increase: ${maxchg}\\nGreatest Profit Decrease: ${minchg}')"
   ]
  },
  {
   "cell_type": "code",
   "execution_count": null,
   "metadata": {},
   "outputs": [],
   "source": []
  },
  {
   "cell_type": "code",
   "execution_count": null,
   "metadata": {},
   "outputs": [],
   "source": []
  }
 ],
 "metadata": {
  "kernelspec": {
   "display_name": "Python 3",
   "language": "python",
   "name": "python3"
  },
  "language_info": {
   "codemirror_mode": {
    "name": "ipython",
    "version": 3
   },
   "file_extension": ".py",
   "mimetype": "text/x-python",
   "name": "python",
   "nbconvert_exporter": "python",
   "pygments_lexer": "ipython3",
   "version": "3.8.3"
  }
 },
 "nbformat": 4,
 "nbformat_minor": 4
}
